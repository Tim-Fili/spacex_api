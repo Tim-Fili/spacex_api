{
 "cells": [
  {
   "cell_type": "code",
   "execution_count": 1,
   "id": "e45de3de",
   "metadata": {},
   "outputs": [],
   "source": [
    "import requests\n",
    "import pandas as pd\n",
    "from pandas import DataFrame\n"
   ]
  },
  {
   "cell_type": "code",
   "execution_count": 2,
   "id": "c6963dc8",
   "metadata": {},
   "outputs": [],
   "source": [
    "#Feature 1: Connect to an external/3rd party API and read data into your app\n",
    "ds = requests.get('https://api.spacexdata.com/v3/launches')\n",
    "all_launches = ds.json()"
   ]
  },
  {
   "cell_type": "code",
   "execution_count": null,
   "id": "733fcad1",
   "metadata": {},
   "outputs": [],
   "source": []
  }
 ],
 "metadata": {
  "kernelspec": {
   "display_name": "Python 3 (ipykernel)",
   "language": "python",
   "name": "python3"
  },
  "language_info": {
   "codemirror_mode": {
    "name": "ipython",
    "version": 3
   },
   "file_extension": ".py",
   "mimetype": "text/x-python",
   "name": "python",
   "nbconvert_exporter": "python",
   "pygments_lexer": "ipython3",
   "version": "3.9.1"
  }
 },
 "nbformat": 4,
 "nbformat_minor": 5
}
